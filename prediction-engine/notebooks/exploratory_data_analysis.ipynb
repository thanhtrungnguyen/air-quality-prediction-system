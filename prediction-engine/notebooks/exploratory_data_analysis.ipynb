{
 "cells": [
  {
   "metadata": {
    "ExecuteTime": {
     "end_time": "2024-12-03T07:28:13.353860Z",
     "start_time": "2024-12-03T07:28:10.318890Z"
    }
   },
   "cell_type": "code",
   "source": [
    "!python.exe -m pip install --upgrade pip\n",
    "!pip install kaggle"
   ],
   "id": "c9a9404ab565e241",
   "outputs": [
    {
     "name": "stdout",
     "output_type": "stream",
     "text": [
      "Requirement already satisfied: pip in d:\\projects\\air-quality-prediction-system\\prediction-engine\\.venv\\lib\\site-packages (24.3.1)\n",
      "Requirement already satisfied: kaggle in d:\\projects\\air-quality-prediction-system\\prediction-engine\\.venv\\lib\\site-packages (1.6.17)\n",
      "Requirement already satisfied: six>=1.10 in d:\\projects\\air-quality-prediction-system\\prediction-engine\\.venv\\lib\\site-packages (from kaggle) (1.16.0)\n",
      "Requirement already satisfied: certifi>=2023.7.22 in d:\\projects\\air-quality-prediction-system\\prediction-engine\\.venv\\lib\\site-packages (from kaggle) (2024.8.30)\n",
      "Requirement already satisfied: python-dateutil in d:\\projects\\air-quality-prediction-system\\prediction-engine\\.venv\\lib\\site-packages (from kaggle) (2.9.0.post0)\n",
      "Requirement already satisfied: requests in d:\\projects\\air-quality-prediction-system\\prediction-engine\\.venv\\lib\\site-packages (from kaggle) (2.32.3)\n",
      "Requirement already satisfied: tqdm in d:\\projects\\air-quality-prediction-system\\prediction-engine\\.venv\\lib\\site-packages (from kaggle) (4.67.1)\n",
      "Requirement already satisfied: python-slugify in d:\\projects\\air-quality-prediction-system\\prediction-engine\\.venv\\lib\\site-packages (from kaggle) (8.0.4)\n",
      "Requirement already satisfied: urllib3 in d:\\projects\\air-quality-prediction-system\\prediction-engine\\.venv\\lib\\site-packages (from kaggle) (2.2.3)\n",
      "Requirement already satisfied: bleach in d:\\projects\\air-quality-prediction-system\\prediction-engine\\.venv\\lib\\site-packages (from kaggle) (6.2.0)\n",
      "Requirement already satisfied: webencodings in d:\\projects\\air-quality-prediction-system\\prediction-engine\\.venv\\lib\\site-packages (from bleach->kaggle) (0.5.1)\n",
      "Requirement already satisfied: text-unidecode>=1.3 in d:\\projects\\air-quality-prediction-system\\prediction-engine\\.venv\\lib\\site-packages (from python-slugify->kaggle) (1.3)\n",
      "Requirement already satisfied: charset-normalizer<4,>=2 in d:\\projects\\air-quality-prediction-system\\prediction-engine\\.venv\\lib\\site-packages (from requests->kaggle) (3.4.0)\n",
      "Requirement already satisfied: idna<4,>=2.5 in d:\\projects\\air-quality-prediction-system\\prediction-engine\\.venv\\lib\\site-packages (from requests->kaggle) (3.10)\n",
      "Requirement already satisfied: colorama in d:\\projects\\air-quality-prediction-system\\prediction-engine\\.venv\\lib\\site-packages (from tqdm->kaggle) (0.4.6)\n"
     ]
    }
   ],
   "execution_count": 28
  },
  {
   "metadata": {
    "ExecuteTime": {
     "end_time": "2024-12-03T07:28:13.360746Z",
     "start_time": "2024-12-03T07:28:13.357864Z"
    }
   },
   "cell_type": "code",
   "source": [
    "import os\n",
    "import kaggle\n",
    "import zipfile"
   ],
   "id": "d0f084907369ada0",
   "outputs": [],
   "execution_count": 29
  },
  {
   "metadata": {
    "ExecuteTime": {
     "end_time": "2024-12-03T07:28:45.318584Z",
     "start_time": "2024-12-03T07:28:42.223810Z"
    }
   },
   "cell_type": "code",
   "source": [
    "# Specify the folder where you want to save the dataset\n",
    "target_folder = \"../data/raw\"\n",
    "\n",
    "# Ensure the folder exists, create it if it doesn't\n",
    "os.makedirs(target_folder, exist_ok=True)\n",
    "\n",
    "# Use Kaggle API to download the dataset\n",
    "!kaggle datasets download -d rabieelkharoua/air-quality-and-health-impact-dataset -p {target_folder}\n",
    "\n",
    "# Unzip the dataset in the target folder\n",
    "dataset_zip_path = os.path.join(target_folder, \"air-quality-and-health-impact-dataset.zip\")\n",
    "with zipfile.ZipFile(dataset_zip_path, 'r') as zip_ref:\n",
    "    zip_ref.extractall(target_folder)\n",
    "\n",
    "# Remove the zip file after extraction\n",
    "os.remove(dataset_zip_path)\n",
    "\n",
    "print(\"Dataset downloaded and extracted to:\", target_folder)"
   ],
   "id": "85ed9b68c19cf4ad",
   "outputs": [
    {
     "name": "stdout",
     "output_type": "stream",
     "text": [
      "Dataset URL: https://www.kaggle.com/datasets/rabieelkharoua/air-quality-and-health-impact-dataset\n",
      "License(s): Attribution 4.0 International (CC BY 4.0)\n",
      "Downloading air-quality-and-health-impact-dataset.zip to ../data/raw\n",
      "\n",
      "Dataset downloaded and extracted to: ../data/raw\n"
     ]
    },
    {
     "name": "stderr",
     "output_type": "stream",
     "text": [
      "\n",
      "  0%|          | 0.00/511k [00:00<?, ?B/s]\n",
      "100%|##########| 511k/511k [00:00<00:00, 694kB/s]\n",
      "100%|##########| 511k/511k [00:00<00:00, 694kB/s]\n"
     ]
    }
   ],
   "execution_count": 31
  },
  {
   "metadata": {
    "ExecuteTime": {
     "end_time": "2024-12-03T07:28:16.664119Z",
     "start_time": "2024-12-03T07:28:16.662293Z"
    }
   },
   "cell_type": "code",
   "source": "",
   "id": "366c006a1cd060e6",
   "outputs": [],
   "execution_count": null
  }
 ],
 "metadata": {
  "kernelspec": {
   "name": "python3",
   "language": "python",
   "display_name": "Python 3 (ipykernel)"
  }
 },
 "nbformat": 5,
 "nbformat_minor": 9
}
