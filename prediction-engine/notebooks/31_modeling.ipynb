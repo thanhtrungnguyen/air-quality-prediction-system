{
 "cells": [
  {
   "cell_type": "code",
   "id": "initial_id",
   "metadata": {
    "collapsed": true,
    "ExecuteTime": {
     "end_time": "2024-12-05T18:00:26.131013Z",
     "start_time": "2024-12-05T17:59:48.373002Z"
    }
   },
   "source": [
    "import pandas as pd\n",
    "import matplotlib.pyplot as plt\n",
    "import tensorflow as tf"
   ],
   "outputs": [],
   "execution_count": 1
  },
  {
   "metadata": {
    "ExecuteTime": {
     "end_time": "2024-12-05T18:00:26.159754Z",
     "start_time": "2024-12-05T18:00:26.140249Z"
    }
   },
   "cell_type": "code",
   "source": "df = pd.read_csv(\"../data/raw/aqi_data.csv\")",
   "id": "930c54566846c754",
   "outputs": [],
   "execution_count": 2
  },
  {
   "metadata": {
    "ExecuteTime": {
     "end_time": "2024-12-05T18:00:26.327698Z",
     "start_time": "2024-12-05T18:00:26.314280Z"
    }
   },
   "cell_type": "code",
   "source": "df.head()",
   "id": "2ccaef2dd47ef029",
   "outputs": [
    {
     "data": {
      "text/plain": [
       "   Unnamed: 0    Datetime       CO     NO     NO2     O3     SO2   PM2_5  \\\n",
       "0           0  1701388800  2830.51   0.71   91.85   7.33   98.23  302.49   \n",
       "1           1  1701392400  3204.35   5.25  101.45   0.89  103.95  348.80   \n",
       "2           2  1701396000  3845.21  21.46  108.30   0.07  116.35  411.29   \n",
       "3           3  1701399600  4272.46  42.47  113.79   1.99  131.61  449.61   \n",
       "4           4  1701403200  3471.37  38.89  119.27  12.34  164.03  419.67   \n",
       "\n",
       "     PM10    NH3  AQI  \n",
       "0  352.06  25.84    5  \n",
       "1  395.55  27.61    5  \n",
       "2  462.70  34.96    5  \n",
       "3  504.76  33.44    5  \n",
       "4  462.73  13.05    5  "
      ],
      "text/html": [
       "<div>\n",
       "<style scoped>\n",
       "    .dataframe tbody tr th:only-of-type {\n",
       "        vertical-align: middle;\n",
       "    }\n",
       "\n",
       "    .dataframe tbody tr th {\n",
       "        vertical-align: top;\n",
       "    }\n",
       "\n",
       "    .dataframe thead th {\n",
       "        text-align: right;\n",
       "    }\n",
       "</style>\n",
       "<table border=\"1\" class=\"dataframe\">\n",
       "  <thead>\n",
       "    <tr style=\"text-align: right;\">\n",
       "      <th></th>\n",
       "      <th>Unnamed: 0</th>\n",
       "      <th>Datetime</th>\n",
       "      <th>CO</th>\n",
       "      <th>NO</th>\n",
       "      <th>NO2</th>\n",
       "      <th>O3</th>\n",
       "      <th>SO2</th>\n",
       "      <th>PM2_5</th>\n",
       "      <th>PM10</th>\n",
       "      <th>NH3</th>\n",
       "      <th>AQI</th>\n",
       "    </tr>\n",
       "  </thead>\n",
       "  <tbody>\n",
       "    <tr>\n",
       "      <th>0</th>\n",
       "      <td>0</td>\n",
       "      <td>1701388800</td>\n",
       "      <td>2830.51</td>\n",
       "      <td>0.71</td>\n",
       "      <td>91.85</td>\n",
       "      <td>7.33</td>\n",
       "      <td>98.23</td>\n",
       "      <td>302.49</td>\n",
       "      <td>352.06</td>\n",
       "      <td>25.84</td>\n",
       "      <td>5</td>\n",
       "    </tr>\n",
       "    <tr>\n",
       "      <th>1</th>\n",
       "      <td>1</td>\n",
       "      <td>1701392400</td>\n",
       "      <td>3204.35</td>\n",
       "      <td>5.25</td>\n",
       "      <td>101.45</td>\n",
       "      <td>0.89</td>\n",
       "      <td>103.95</td>\n",
       "      <td>348.80</td>\n",
       "      <td>395.55</td>\n",
       "      <td>27.61</td>\n",
       "      <td>5</td>\n",
       "    </tr>\n",
       "    <tr>\n",
       "      <th>2</th>\n",
       "      <td>2</td>\n",
       "      <td>1701396000</td>\n",
       "      <td>3845.21</td>\n",
       "      <td>21.46</td>\n",
       "      <td>108.30</td>\n",
       "      <td>0.07</td>\n",
       "      <td>116.35</td>\n",
       "      <td>411.29</td>\n",
       "      <td>462.70</td>\n",
       "      <td>34.96</td>\n",
       "      <td>5</td>\n",
       "    </tr>\n",
       "    <tr>\n",
       "      <th>3</th>\n",
       "      <td>3</td>\n",
       "      <td>1701399600</td>\n",
       "      <td>4272.46</td>\n",
       "      <td>42.47</td>\n",
       "      <td>113.79</td>\n",
       "      <td>1.99</td>\n",
       "      <td>131.61</td>\n",
       "      <td>449.61</td>\n",
       "      <td>504.76</td>\n",
       "      <td>33.44</td>\n",
       "      <td>5</td>\n",
       "    </tr>\n",
       "    <tr>\n",
       "      <th>4</th>\n",
       "      <td>4</td>\n",
       "      <td>1701403200</td>\n",
       "      <td>3471.37</td>\n",
       "      <td>38.89</td>\n",
       "      <td>119.27</td>\n",
       "      <td>12.34</td>\n",
       "      <td>164.03</td>\n",
       "      <td>419.67</td>\n",
       "      <td>462.73</td>\n",
       "      <td>13.05</td>\n",
       "      <td>5</td>\n",
       "    </tr>\n",
       "  </tbody>\n",
       "</table>\n",
       "</div>"
      ]
     },
     "execution_count": 3,
     "metadata": {},
     "output_type": "execute_result"
    }
   ],
   "execution_count": 3
  },
  {
   "metadata": {
    "ExecuteTime": {
     "end_time": "2024-12-05T18:00:29.282706Z",
     "start_time": "2024-12-05T18:00:29.274204Z"
    }
   },
   "cell_type": "code",
   "source": "df.info()",
   "id": "fe31ee026af99e74",
   "outputs": [
    {
     "name": "stdout",
     "output_type": "stream",
     "text": [
      "<class 'pandas.core.frame.DataFrame'>\n",
      "RangeIndex: 8665 entries, 0 to 8664\n",
      "Data columns (total 11 columns):\n",
      " #   Column      Non-Null Count  Dtype  \n",
      "---  ------      --------------  -----  \n",
      " 0   Unnamed: 0  8665 non-null   int64  \n",
      " 1   Datetime    8665 non-null   int64  \n",
      " 2   CO          8665 non-null   float64\n",
      " 3   NO          8665 non-null   float64\n",
      " 4   NO2         8665 non-null   float64\n",
      " 5   O3          8665 non-null   float64\n",
      " 6   SO2         8665 non-null   float64\n",
      " 7   PM2_5       8665 non-null   float64\n",
      " 8   PM10        8665 non-null   float64\n",
      " 9   NH3         8665 non-null   float64\n",
      " 10  AQI         8665 non-null   int64  \n",
      "dtypes: float64(8), int64(3)\n",
      "memory usage: 744.8 KB\n"
     ]
    }
   ],
   "execution_count": 4
  },
  {
   "metadata": {
    "ExecuteTime": {
     "end_time": "2024-12-05T18:00:34.047256Z",
     "start_time": "2024-12-05T18:00:34.042207Z"
    }
   },
   "cell_type": "code",
   "source": [
    "# Checking null values\n",
    "print(df.isnull().sum() , \"\\n---------------- \\n\" , df_test.isnull().sum() )\n"
   ],
   "id": "bdbf6c334d183e8c",
   "outputs": [],
   "execution_count": 5
  },
  {
   "metadata": {},
   "cell_type": "code",
   "outputs": [],
   "execution_count": null,
   "source": [
    "from sklearn.compose import make_column_transformer\n",
    "from sklearn.preprocessing import MinMaxScaler, OneHotEncoder"
   ],
   "id": "a401d6aad4cb4def"
  }
 ],
 "metadata": {
  "kernelspec": {
   "display_name": "Python 3",
   "language": "python",
   "name": "python3"
  },
  "language_info": {
   "codemirror_mode": {
    "name": "ipython",
    "version": 2
   },
   "file_extension": ".py",
   "mimetype": "text/x-python",
   "name": "python",
   "nbconvert_exporter": "python",
   "pygments_lexer": "ipython2",
   "version": "2.7.6"
  }
 },
 "nbformat": 4,
 "nbformat_minor": 5
}
