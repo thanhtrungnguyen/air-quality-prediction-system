{
 "cells": [
  {
   "cell_type": "code",
   "id": "initial_id",
   "metadata": {
    "collapsed": true,
    "ExecuteTime": {
     "end_time": "2024-12-05T15:41:38.746238Z",
     "start_time": "2024-12-05T15:41:31.140089Z"
    }
   },
   "source": [
    "import requests\n",
    "import pandas as pd"
   ],
   "outputs": [],
   "execution_count": 1
  },
  {
   "metadata": {
    "ExecuteTime": {
     "end_time": "2024-12-05T15:41:38.774875Z",
     "start_time": "2024-12-05T15:41:38.769865Z"
    }
   },
   "cell_type": "code",
   "source": [
    "#access token\n",
    "token = '579b464db66ec23bdd000001970a9945dc444ac46cdd676f4e569761'"
   ],
   "id": "728ba9302cc1fd8b",
   "outputs": [],
   "execution_count": 2
  },
  {
   "metadata": {
    "ExecuteTime": {
     "end_time": "2024-12-05T15:45:01.909859Z",
     "start_time": "2024-12-05T15:45:00.831874Z"
    }
   },
   "cell_type": "code",
   "source": [
    "#request to get information from all Mumbai stations\n",
    "URL = \"https://api.data.gov.in/resource/3b01bcb8-0b14-4abf-b6f2-c1bfd384ba69?limit=1000&api-key=\"+token+\"&format=json&filters[city]=Hanoi\"\n",
    "r = requests.get(url = URL)\n",
    "data = r.json()\n",
    "data"
   ],
   "id": "7a163ca38b2e253e",
   "outputs": [
    {
     "data": {
      "text/plain": [
       "{'index_name': '3b01bcb8-0b14-4abf-b6f2-c1bfd384ba69',\n",
       " 'title': 'Real time Air Quality Index from various locations',\n",
       " 'desc': 'Real time Air Quality Index from various locations',\n",
       " 'org_type': 'Central',\n",
       " 'org': ['Ministry of Environment, Forest and Climate Change',\n",
       "  'Central Pollution Control Board'],\n",
       " 'sector': ['Environment and Forest',\n",
       "  'Industrial Air Pollution',\n",
       "  'Residential Air Pollution',\n",
       "  'Vehicular Air Pollution'],\n",
       " 'source': 'data.gov.in',\n",
       " 'catalog_uuid': 'a3e7afc6-b799-4ede-b143-8e074b27e062',\n",
       " 'visualizable': '1',\n",
       " 'active': '1',\n",
       " 'created': 1470249000,\n",
       " 'updated': 1733412750,\n",
       " 'created_date': '2016-04-08T00:00:00Z',\n",
       " 'updated_date': '2024-12-05T15:32:30Z',\n",
       " 'external_ws': 0,\n",
       " 'external_ws_url': '',\n",
       " 'target_bucket': {'index': 'air_quality',\n",
       "  'type': '3b01bcb8-0b14-4abf-b6f2-c1bfd384ba69'},\n",
       " 'field': [{'name': 'country', 'id': 'country', 'type': 'keyword'},\n",
       "  {'name': 'state', 'id': 'state', 'type': 'keyword'},\n",
       "  {'name': 'city', 'id': 'city', 'type': 'keyword'},\n",
       "  {'name': 'station', 'id': 'station', 'type': 'keyword'},\n",
       "  {'name': 'last_update', 'id': 'last_update', 'type': 'keyword'},\n",
       "  {'name': 'latitude', 'id': 'latitude', 'type': 'keyword'},\n",
       "  {'name': 'longitude', 'id': 'longitude', 'type': 'keyword'},\n",
       "  {'name': 'pollutant_id', 'id': 'pollutant_id', 'type': 'keyword'},\n",
       "  {'name': 'pollutant_min', 'id': 'min_value', 'type': 'keyword'},\n",
       "  {'name': 'pollutant_max', 'id': 'max_value', 'type': 'keyword'},\n",
       "  {'name': 'pollutant_avg', 'id': 'avg_value', 'type': 'keyword'}],\n",
       " 'message': 'Resource lists',\n",
       " 'version': '2.2.0',\n",
       " 'status': 'ok',\n",
       " 'total': 0,\n",
       " 'count': 0,\n",
       " 'limit': '1000',\n",
       " 'offset': '0',\n",
       " 'records': []}"
      ]
     },
     "execution_count": 8,
     "metadata": {},
     "output_type": "execute_result"
    }
   ],
   "execution_count": 8
  },
  {
   "metadata": {
    "ExecuteTime": {
     "end_time": "2024-12-05T15:44:28.792445Z",
     "start_time": "2024-12-05T15:44:28.784168Z"
    }
   },
   "cell_type": "code",
   "source": [
    "def get_recent_reading(include_minmax=False):\n",
    "    recs = data['records']\n",
    "    stations = {}\n",
    "    for rec in recs:\n",
    "        station = rec['station']\n",
    "        if not (station in stations.keys()):\n",
    "            row = {'station':station, 'time':rec['last_update']}\n",
    "            stations[station] = row\n",
    "        p = rec['pollutant_id']\n",
    "        p_avg = rec['pollutant_avg']\n",
    "        p_min = rec['pollutant_min']\n",
    "        p_max = rec['pollutant_max']\n",
    "        updates = {p+\"_avg\":p_avg}\n",
    "        if include_minmax:\n",
    "            extra_updates = {p+\"_min\":p_min, p+\"_max\":p_max}\n",
    "        stations[station].update(updates)\n",
    "\n",
    "    row_ar = []\n",
    "    for station in stations.keys():\n",
    "        row_ar.append(stations[station])\n",
    "\n",
    "    df = pd.DataFrame(row_ar)\n",
    "    return df\n"
   ],
   "id": "52454ed9a42983d5",
   "outputs": [],
   "execution_count": 6
  },
  {
   "metadata": {
    "ExecuteTime": {
     "end_time": "2024-12-05T15:44:30.333418Z",
     "start_time": "2024-12-05T15:44:30.323776Z"
    }
   },
   "cell_type": "code",
   "source": [
    "#use include_minmax_True to include the min and max values in addition to average\n",
    "get_recent_reading(include_minmax=False)"
   ],
   "id": "d2cb43e4f1c0c626",
   "outputs": [
    {
     "data": {
      "text/plain": [
       "Empty DataFrame\n",
       "Columns: []\n",
       "Index: []"
      ],
      "text/html": [
       "<div>\n",
       "<style scoped>\n",
       "    .dataframe tbody tr th:only-of-type {\n",
       "        vertical-align: middle;\n",
       "    }\n",
       "\n",
       "    .dataframe tbody tr th {\n",
       "        vertical-align: top;\n",
       "    }\n",
       "\n",
       "    .dataframe thead th {\n",
       "        text-align: right;\n",
       "    }\n",
       "</style>\n",
       "<table border=\"1\" class=\"dataframe\">\n",
       "  <thead>\n",
       "    <tr style=\"text-align: right;\">\n",
       "      <th></th>\n",
       "    </tr>\n",
       "  </thead>\n",
       "  <tbody>\n",
       "  </tbody>\n",
       "</table>\n",
       "</div>"
      ]
     },
     "execution_count": 7,
     "metadata": {},
     "output_type": "execute_result"
    }
   ],
   "execution_count": 7
  }
 ],
 "metadata": {
  "kernelspec": {
   "display_name": "Python 3",
   "language": "python",
   "name": "python3"
  },
  "language_info": {
   "codemirror_mode": {
    "name": "ipython",
    "version": 2
   },
   "file_extension": ".py",
   "mimetype": "text/x-python",
   "name": "python",
   "nbconvert_exporter": "python",
   "pygments_lexer": "ipython2",
   "version": "2.7.6"
  }
 },
 "nbformat": 4,
 "nbformat_minor": 5
}
